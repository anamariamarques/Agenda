{
  "cells": [
    {
      "cell_type": "markdown",
      "metadata": {
        "id": "view-in-github",
        "colab_type": "text"
      },
      "source": [
        "<a href=\"https://colab.research.google.com/github/anamariamarques/Agenda/blob/main/Agenda_AnaMariaMarquesDaSilvaRocha.ipynb\" target=\"_parent\"><img src=\"https://colab.research.google.com/assets/colab-badge.svg\" alt=\"Open In Colab\"/></a>"
      ]
    },
    {
      "cell_type": "markdown",
      "source": [
        "## Salva contato\n",
        "\n",
        " "
      ],
      "metadata": {
        "id": "OoDme1zbCK5g"
      }
    },
    {
      "cell_type": "markdown",
      "source": [
        " >> ### Salva contato único\n",
        "  - **Parâmetro:** ***Dicionário*** contendo `cpf`, `nome`, `telefone`, `email`, `twitter`, `instagram`\n",
        "  - **Retorno:** Não existe\n",
        "  - **Função:** Armazena as informações de um dicionário em arquivo\n",
        "  - **Tipo:** Função"
      ],
      "metadata": {
        "id": "6BXpwQkBKYFg"
      }
    },
    {
      "cell_type": "code",
      "source": [
        "def salvarContato(contato):  \n",
        "  with open(\"contatos.txt\", mode=\"a+\", encoding='utf-8') as arquivo:        \n",
        "    arquivo.write(str(\"{0},{1},{2},{3},{4},{5}\\n\".format(contato[\"cpf\"], contato[\"nome\"], contato[\"telefone\"], contato[\"email\"], contato[\"twitter\"], contato[\"instagram\"])))\n",
        "    arquivo.close()  "
      ],
      "metadata": {
        "id": "m9O5a4Q2KcOV"
      },
      "execution_count": null,
      "outputs": []
    },
    {
      "cell_type": "markdown",
      "source": [
        " >> ### Salva lista de contatos\n",
        "  - **Parâmetro:** ***Lista*** contendo dicionários com dados de contato\n",
        "  - **Retorno:** Não existe\n",
        "  - **Função:** Armazena as informações com lista de dicionários em arquivo\n",
        "  - **Tipo:** Função"
      ],
      "metadata": {
        "id": "1kBE9xYqKw_g"
      }
    },
    {
      "cell_type": "code",
      "source": [
        "def salvarContatos(lista):  \n",
        "  with open(\"contatos.txt\", mode=\"w+\", encoding='utf-8') as arquivo:    \n",
        "    for contato in lista:\n",
        "      arquivo.write(f'{ contato[\"cpf\"] },{ contato[\"nome\"] },{ contato[\"telefone\"] },{ contato[\"email\"] },{ contato[\"twitter\"] },{contato[\"instagram\"]}\\n')\n",
        "    arquivo.close()    "
      ],
      "metadata": {
        "id": "dAorFp-bAb4i"
      },
      "execution_count": null,
      "outputs": []
    },
    {
      "cell_type": "markdown",
      "source": [
        "## Cadastro de contato teste\n",
        "  - **Parâmetro:** Lista\n",
        "  - **Retorno:** Não existe\n",
        "  - **Função:** Armazena as informações de teste para início do uso\n",
        "  - **Tipo:** Função\n"
      ],
      "metadata": {
        "id": "YrWl0ihqDBGp"
      }
    },
    {
      "cell_type": "code",
      "source": [
        "def criaDadosTeste():\n",
        "  lista = [] \n",
        "  try:\n",
        "    lista = carregarContatos()\n",
        "    if len(lista) == 0:\n",
        "      raise\n",
        "  except:  \n",
        "    print(\"Teste de novos dados\")\n",
        "    arquivo = open(\"contatos.txt\", \"a+\")\n",
        "    contato = {\n",
        "      \"cpf\": \"00012345678\",\n",
        "      \"nome\": \"Ana Maria\",\n",
        "      \"telefone\": \"61 9999 8888\",\n",
        "      \"email\": \"teste@gmail.com\",\n",
        "      \"twitter\": \"@teste\",\n",
        "      \"instagram\": \"@teste\"\n",
        "      }\n",
        "    arquivo.write(str(\"{},{},{},{},{},{}\\n\".format(contato[\"cpf\"], contato[\"nome\"], contato[\"telefone\"], contato[\"email\"], contato[\"twitter\"], contato[\"instagram\"])))\n",
        "    lista.append(contato)\n",
        "    arquivo.close()  "
      ],
      "metadata": {
        "id": "XuDkdqgdzIYn"
      },
      "execution_count": null,
      "outputs": []
    },
    {
      "cell_type": "markdown",
      "source": [
        "## Lista de contatos\n",
        "  - **Parâmetro:** Não existe\n",
        "  - **Retorno:** Lista\n",
        "  - **Função:** Consulta todos os dados existentes no arquivo predeterminado\n",
        "  - **Tipo:** Função"
      ],
      "metadata": {
        "id": "NOJHBE70Dohv"
      }
    },
    {
      "cell_type": "code",
      "source": [
        "def carregarContatos():  \n",
        "  with open(\"contatos.txt\", \"r\") as arquivo:\n",
        "    lista = []\n",
        "    for linha in arquivo.readlines():\n",
        "      coluna = linha.strip().split(\",\")\n",
        "      contato = {\n",
        "            \"cpf\":      coluna[0],\n",
        "            \"nome\":     coluna[1],\n",
        "            \"telefone\": coluna[2],\n",
        "            \"email\":    coluna[3],\n",
        "            \"twitter\":  coluna[4],\n",
        "            \"instagram\":coluna[5]\n",
        "          }          \n",
        "      lista.append(contato)\n",
        "  arquivo.close() \n",
        "  return lista"
      ],
      "metadata": {
        "id": "u2ZMPBpURNbz"
      },
      "execution_count": null,
      "outputs": []
    },
    {
      "cell_type": "markdown",
      "source": [
        "## Identifica repetição\n",
        "  - **Parâmetro:** Não existe\n",
        "  - **Retorno:** boolean\n",
        "  - **Função:** Consulta todos os dados existentes no arquivo predeterminado\n",
        "  - **Tipo:** Função \n"
      ],
      "metadata": {
        "id": "gCzDp0gIElVv"
      }
    },
    {
      "cell_type": "code",
      "source": [
        "def cpfCadastrado(lista, cpf):\n",
        "  if len(lista) >0:\n",
        "   for contato in lista:\n",
        "     if contato[\"cpf\"] == cpf:\n",
        "        return True\n",
        "  return False      "
      ],
      "metadata": {
        "id": "p_pYUNm3HycJ"
      },
      "execution_count": null,
      "outputs": []
    },
    {
      "cell_type": "markdown",
      "source": [
        "## Adiciona contato\n",
        "  - **Parâmetro:** Lista de contatos existentes\n",
        "  - **Retorno:** Texto\n",
        "  - **Função:** Cadastra novos contatos em agenda\n",
        "  - **Tipo:** Função "
      ],
      "metadata": {
        "id": "ReOlIy_FKIs5"
      }
    },
    {
      "cell_type": "markdown",
      "source": [
        ">> ### Inclusão única"
      ],
      "metadata": {
        "id": "SfveDQhHzfsX"
      }
    },
    {
      "cell_type": "code",
      "source": [
        "def adicionar():\n",
        "  lista = carregarContatos()\n",
        "  cpf_input = input(\"Informe o CPF: \")    \n",
        "  if cpfCadastrado(lista, cpf_input):     \n",
        "      print('Este CPF está cadastrado na agenda')\n",
        "  else:\n",
        "      contato={\n",
        "        \"cpf\":      cpf_input,\n",
        "        \"nome\":     input(\"Informe o nome: \"),\n",
        "        \"telefone\": input(\"Informe o telefone: \"),\n",
        "        \"email\":    input(\"Informe o email: \"),\n",
        "        \"twitter\":  input(\"Informe o Twitter: \"),\n",
        "        \"instagram\":input(\"Informe o Instagram: \")\n",
        "      }            \n",
        "      salvarContato(contato)\n",
        "      print(\"O contato {} foi cadastrado\\n\".format(contato[\"nome\"]))  "
      ],
      "metadata": {
        "id": "sXvXS8-nECBZ"
      },
      "execution_count": null,
      "outputs": []
    },
    {
      "cell_type": "markdown",
      "source": [
        ">> ### Inclusão multipla\n"
      ],
      "metadata": {
        "id": "iX4k70BvzRcv"
      }
    },
    {
      "cell_type": "markdown",
      "source": [
        ">>> #### Criação de dicionário\n",
        " - **Parâmetro**: Lista\n",
        " - **Retorno**: Dicionário com dados de cadastro\n",
        " - **Função**: Gerar dados de cadastro único\n",
        " - **Tipo**: Dicionário"
      ],
      "metadata": {
        "id": "yquQzPiv95GQ"
      }
    },
    {
      "cell_type": "code",
      "source": [
        "def criaDicionarioDeCadastro(lista):\n",
        "  cpf_input = input(\"Informe o CPF: \")    \n",
        "  if cpfCadastrado(lista, cpf_input):     \n",
        "      print(f'O CPF { cpf_input } está cadastrado na agenda')\n",
        "  else:\n",
        "      contato={\n",
        "        \"cpf\":      cpf_input,\n",
        "        \"nome\":     input(\"Informe o nome: \"),\n",
        "        \"telefone\": input(\"Informe o telefone: \"),\n",
        "        \"email\":    input(\"Informe o email: \"),\n",
        "        \"twitter\":  input(\"Informe o Twitter: \"),\n",
        "        \"instagram\":input(\"Informe o Instagram: \")\n",
        "      }  \n",
        "  return contato"
      ],
      "metadata": {
        "id": "cNThqxOq25HJ"
      },
      "execution_count": null,
      "outputs": []
    },
    {
      "cell_type": "markdown",
      "source": [
        ">>> #### Inserção de cadastros multiplos\n",
        " - **Parâmetro**: Não existe\n",
        " - **Retorno**: Não existe\n",
        " - **Função**: Cadastro multiplo de contatos\n",
        " - **Tipo**: Função"
      ],
      "metadata": {
        "id": "WHXjHgEJ-hyH"
      }
    },
    {
      "cell_type": "code",
      "source": [
        "def cadastrosMultiplos():\n",
        "  quantidade = int(input(\"Quantos contatos serão inseridos?\"))\n",
        "  lista_inclusao = []\n",
        "  lista = carregarContatos()\n",
        "  if (quantidade >= 2):\n",
        "    i = 1\n",
        "    while i <= quantidade:   \n",
        "      print(\"\")\n",
        "      print( f'Cadastro { i }' )\n",
        "      print(\"\")\n",
        "      contato_cadastro = criaDicionarioDeCadastro(lista) \n",
        "      lista_inclusao.append( contato_cadastro )\n",
        "      i += 1\n",
        "    else:\n",
        "      lista_adicionada = lista + lista_inclusao \n",
        "      salvarContatos(lista_adicionada)\n",
        "  else:\n",
        "    print(\"Por favor informe uma quantidade maior ou igual a 2\")"
      ],
      "metadata": {
        "id": "1C3K-4-qzmIT"
      },
      "execution_count": null,
      "outputs": []
    },
    {
      "cell_type": "markdown",
      "source": [
        "## Edição de contato\n",
        "  - **Parâmetro:** Lista\n",
        "  - **Retorno:** Texto\n",
        "  - **Função:** Altera os dados existentes no cadastro consultado\n",
        "  - **Tipo:** Função"
      ],
      "metadata": {
        "id": "-2fZLwjHkHL5"
      }
    },
    {
      "cell_type": "code",
      "source": [
        "def alterar():\n",
        "  lista = []\n",
        "  lista = carregarContatos()\n",
        "  if len(lista)>0:\n",
        "    cpf = input(\"Digite o CPF: \")\n",
        "    if cpfCadastrado(lista, cpf):          \n",
        "        for linha in lista:\n",
        "          if linha[\"cpf\"] == cpf:\n",
        "            novos_dados = {\n",
        "                \"nome\"      : input(\"Digite o novo nome do contato: \"),\n",
        "                \"telefone\"  : input(\"Digite o novo telefone do contato: \"),\n",
        "                \"email\"     : input(\"Digite o novo e-mail do contato: \"),\n",
        "                \"twitter\"   : input(\"Digite o novo twitter do contato: \"),\n",
        "                \"instagram\" : input(\"Digite o novo instagram do contato: \")\n",
        "            }\n",
        "            linha[\"nome\"]     = novos_dados[\"nome\"]\n",
        "            linha[\"telefone\"] = novos_dados[\"telefone\"] \n",
        "            linha['email']    = novos_dados[\"email\"]\n",
        "            linha['twitter']  = novos_dados[\"twitter\"]\n",
        "            linha['instagram']= novos_dados[\"instagram\"]    \n",
        "        \n",
        "        salvarContatos(lista)\n",
        "        print('Alteração realizada com sucesso')\n",
        "        print('')\n",
        "    else:\n",
        "        print(\"Não existe contato com o CPF {}. \\n\".format(cpf))\n",
        "  else:\n",
        "    print(\"Não existe contato como o CPF informado.\\n\")"
      ],
      "metadata": {
        "id": "9I5ZtQLmLo--"
      },
      "execution_count": null,
      "outputs": []
    },
    {
      "cell_type": "markdown",
      "source": [
        "  ## Consultar dados pelo nome do contato\n",
        "  - **Parâmetro:** Texto com o nome completo\n",
        "  - **Retorno:** Dicionário com os dados do contato\n",
        "  - **Função:** Captura dados de contato\n",
        "  - **Tipo:** Função"
      ],
      "metadata": {
        "id": "QlYOqv2lHfZI"
      }
    },
    {
      "cell_type": "code",
      "source": [
        "def buscar():\n",
        "  lista = []\n",
        "  lista = carregarContatos()\n",
        "  nome = input('Informe o nome do contato: ')\n",
        "  for contato in lista:\n",
        "      dados_cadastro = {}\n",
        "      if nome == contato[\"nome\"]:                       \n",
        "        dados_cadastro = {\n",
        "          \"nome\": contato[\"nome\"] ,\n",
        "          \"cpf\": contato[\"cpf\"] ,\n",
        "          \"telefone\": contato[\"telefone\"],\n",
        "          \"email\": contato[\"email\"] ,\n",
        "          \"twitter\": contato[\"twitter\"],\n",
        "          \"instagram\": contato[\"instagram\"]\n",
        "        }\n",
        "\n",
        "  if len(dados_cadastro) == 0:     \n",
        "    print(\"Contato não localizado\")\n",
        "    print('')\n",
        "  else:\n",
        "    print('') \n",
        "    print(f'Nome      { dados_cadastro[\"nome\"] }')        \n",
        "    print(f'CPF       { dados_cadastro[\"cpf\"] }')        \n",
        "    print(f'Telefone   { dados_cadastro[\"telefone\"] }')        \n",
        "    print(f'E-mail    { dados_cadastro[\"email\"] }')        \n",
        "    print(f'Twitter   { dados_cadastro[\"twitter\"] }')        \n",
        "    print(f'Instagram { dados_cadastro[\"instagram\"] }')       \n",
        "    print('') \n",
        "    print('') "
      ],
      "metadata": {
        "id": "HnLShCzILql2"
      },
      "execution_count": null,
      "outputs": []
    },
    {
      "cell_type": "markdown",
      "source": [
        "  ## Lista cadastros existentes\n",
        "  - **Parâmetro:** Lista\n",
        "  - **Retorno:** Texto\n",
        "  - **Função:** Exibe os cadastros registrados\n",
        "  - **Tipo:** Função"
      ],
      "metadata": {
        "id": "1nlffj9BlKao"
      }
    },
    {
      "cell_type": "code",
      "source": [
        "def listar():\n",
        "  lista = []\n",
        "  lista = carregarContatos()\n",
        "  if len(lista)>0:\n",
        "    for i, contato in enumerate (lista):\n",
        "      print(\"Contato {}: \".format(i+1))\n",
        "      print(\"\\tNome: {}\".format(contato[\"nome\"]))\n",
        "      print(\"\\tcpf: {}\".format(contato[\"cpf\"]))\n",
        "      print(\"\\ttelefone: {}\".format(contato[\"telefone\"]))\n",
        "      print(\"\\temail: {}\".format(contato[\"email\"]))\n",
        "      print(\"\\ttwitter: {}\".format(contato[\"twitter\"]))\n",
        "      print(\"\\tinstagram: {}\".format(contato[\"instagram\"]))\n",
        "\n",
        "    print(\"Total de contatos: {}\\n\".format(len(lista)))\n",
        "  else:\n",
        "      print(\"Não existe contato cadastrado no sistema.\\n\")"
      ],
      "metadata": {
        "id": "NS_EgrsTLsFH"
      },
      "execution_count": null,
      "outputs": []
    },
    {
      "cell_type": "markdown",
      "source": [
        "## Relatório \n",
        "  - CPF\n",
        "  - Nome\n",
        "  - Email\n",
        "  - Twitter\n",
        "  - Instagram"
      ],
      "metadata": {
        "id": "Z2huJzuWIMwY"
      }
    },
    {
      "cell_type": "code",
      "source": [
        "def relatorio():\n",
        "  lista = []\n",
        "  lista = carregarContatos()\n",
        "  if len(lista)>0:\n",
        "      print(\"{:<15} {:<40} {:<30} {:<15} {:<15}\".format('CPF', 'NOME', 'EMAIL', 'TWITTER', 'INSTAGRAM'))\n",
        "      for i, contato in enumerate (lista):\n",
        "        print( \"{:<15} {:<40} {:<30} {:<15} {:<15}\".format(contato[\"cpf\"], contato[\"nome\"], contato[\"email\"], contato[\"twitter\"], contato[\"instagram\"]) )\n",
        "      print(\"Total de contatos: {}\\n\".format(len(lista)))\n",
        "  else:\n",
        "      print(\"Não existe contato cadastrado no sistema.\\n\")"
      ],
      "metadata": {
        "id": "GLwJw5l6EsKA"
      },
      "execution_count": null,
      "outputs": []
    },
    {
      "cell_type": "markdown",
      "source": [
        "  ## Remove contato\n",
        "  - **Parâmetro:** Lista\n",
        "  - **Retorno:** Texto\n",
        "  - **Função:** Exclui cadastro\n",
        "  - **Tipo:** Função"
      ],
      "metadata": {
        "id": "6Zbk7BzVleaw"
      }
    },
    {
      "cell_type": "code",
      "source": [
        "def remover():\n",
        "  lista = []\n",
        "  lista = carregarContatos()\n",
        "  if len(lista)>0:\n",
        "      nome = input(\"Digite o nome: \")\n",
        "      for i, contato in enumerate(lista):\n",
        "        if contato[\"nome\"] == nome:\n",
        "          print(\"Contato{}:\".format(i+1))\n",
        "          print(\"Nome: {}\".format(contato[\"nome\"]))\n",
        "          print(\"cpf: {}\".format(contato[\"cpf\"]))\n",
        "          print(\"telefone: {}\".format(contato[\"telefone\"]))\n",
        "          print(\"email: {}\".format(contato[\"email\"]))\n",
        "          print(\"twitter: {}\".format(contato[\"twitter\"]))\n",
        "          print(\"instagram: {}\".format(contato[\"instagram\"]))\n",
        "          print(\" \")         \n",
        "          print(\"Por favor responder apenas 'sim' ou 'não'\")\n",
        "          pergunta = input(\"Confirma a exclusão do contato? \")\n",
        "          print(\"\")\n",
        "          if pergunta == \"sim\":\n",
        "            lista.pop(i)\n",
        "            salvarContatos(lista) \n",
        "            print(\"Contato apagando com sucesso!\") \n",
        "            print(\"\")\n",
        "          elif pergunta == \"não\":\n",
        "            print(\"Exclusão de contato cancelada!\") \n",
        "            print(\"\")\n",
        "          else:\n",
        "            print(\"Resposta incorreta, favor verificar a digitação!\") \n",
        "            print(\"\")\n",
        "          break      \n",
        "  else:\n",
        "    print(\"Não existe contato como o CPF informado.\\n\")\n",
        "    print(\"\")"
      ],
      "metadata": {
        "id": "9XVMtdyZ5Xxz"
      },
      "execution_count": null,
      "outputs": []
    },
    {
      "cell_type": "markdown",
      "source": [
        "## Encerra aplicação\n"
      ],
      "metadata": {
        "id": "R5s2QcwVl1tI"
      }
    },
    {
      "cell_type": "code",
      "source": [
        "def sair():\n",
        "  pass"
      ],
      "metadata": {
        "id": "I_dTdHbcLva-"
      },
      "execution_count": null,
      "outputs": []
    },
    {
      "cell_type": "markdown",
      "source": [
        "## Menu principal"
      ],
      "metadata": {
        "id": "bDV8cMp0l6FA"
      }
    },
    {
      "cell_type": "code",
      "source": [
        "def menuPrincipal():   \n",
        "  criaDadosTeste() \n",
        "  while True:\n",
        "    print(\"AGENDA DE CONTATOS\")\n",
        "    print(\"1 - Adicionar contato: \")\n",
        "    print(\"2 - Adicionar vários contatos\")\n",
        "    print(\"3 - Alterar contato: \")\n",
        "    print(\"4 - Buscar contato: \")\n",
        "    print(\"5 - Listar Contatos: \")\n",
        "    print(\"6 - Relatório: \")\n",
        "    print(\"7 - Remover Contato: \")\n",
        "    print(\"8 - Sair\")\n",
        "    opcao = eval(input(\"Escolha uma opção: \"))\n",
        "\n",
        "    if opcao == 1:\n",
        "      print(\" CADASTRO DE CONTATO \")\n",
        "      adicionar()\n",
        "    elif opcao == 2:\n",
        "      print(\" CADASTRO DE VÁRIOS CONTATOS \")\n",
        "      cadastrosMultiplos()\n",
        "    elif opcao == 3:\n",
        "      print(\" EDIÇÃO DE CONTATO \")\n",
        "      alterar()     \n",
        "    elif opcao == 4:\n",
        "      print(\" BUSCA POR CONTATO \")\n",
        "      buscar()\n",
        "    elif opcao == 5:\n",
        "      print(\" LISTAGEM DE CONTATOS \")\n",
        "      listar()\n",
        "    elif opcao == 6 :  \n",
        "      print(\"RELATÓRIO\")\n",
        "      relatorio()\n",
        "    elif opcao == 7:    \n",
        "      print(\" REMOÇÃO DE CONTATO \")\n",
        "      remover()\n",
        "    elif opcao == 8:  \n",
        "      print(\" SAIR DA AGENDA \")\n",
        "      sair()\n",
        "      print(\"A agenda será encerrada, até breve!\")\n",
        "      break\n",
        "    else:\n",
        "      print(\"Opção inválida, tente novamente.\")\n"
      ],
      "metadata": {
        "id": "65syVDdLELPT"
      },
      "execution_count": null,
      "outputs": []
    },
    {
      "cell_type": "markdown",
      "source": [
        "## Executa sistema"
      ],
      "metadata": {
        "id": "5yUBzlDCx81x"
      }
    },
    {
      "cell_type": "code",
      "source": [
        "menuPrincipal()"
      ],
      "metadata": {
        "colab": {
          "base_uri": "https://localhost:8080/"
        },
        "id": "GEiKtA1rWM3R",
        "outputId": "91a0dd85-c7d1-4039-9ebb-44ae35c82dd6"
      },
      "execution_count": null,
      "outputs": [
        {
          "output_type": "stream",
          "name": "stdout",
          "text": [
            "Teste de novos dados\n",
            "AGENDA DE CONTATOS\n",
            "1 - Adicionar contato: \n",
            "2 - Adicionar vários contatos\n",
            "3 - Alterar contato: \n",
            "4 - Buscar contato: \n",
            "5 - Listar Contatos: \n",
            "6 - Relatório: \n",
            "7 - Remover Contato: \n",
            "8 - Sair\n",
            "Escolha uma opção: 1\n",
            " CADASTRO DE CONTATO \n",
            "Informe o CPF: 001.002.003-01\n",
            "Informe o nome: David Jeiel\n",
            "Informe o telefone: 61 99999 1234\n",
            "Informe o email: davidjeiel@teste.com\n",
            "Informe o Twitter: @davidjeiel\n",
            "Informe o Instagram: @davidjeiel\n",
            "O contato David Jeiel foi cadastrado\n",
            "\n",
            "AGENDA DE CONTATOS\n",
            "1 - Adicionar contato: \n",
            "2 - Adicionar vários contatos\n",
            "3 - Alterar contato: \n",
            "4 - Buscar contato: \n",
            "5 - Listar Contatos: \n",
            "6 - Relatório: \n",
            "7 - Remover Contato: \n",
            "8 - Sair\n",
            "Escolha uma opção: 5\n",
            " LISTAGEM DE CONTATOS \n",
            "Contato 1: \n",
            "\tNome: Ana Maria\n",
            "\tcpf: 00012345678\n",
            "\ttelefone: 61 9999 8888\n",
            "\temail: teste@gmail.com\n",
            "\ttwitter: @teste\n",
            "\tinstagram: @teste\n",
            "Contato 2: \n",
            "\tNome: David Jeiel\n",
            "\tcpf: 001.002.003-01\n",
            "\ttelefone: 61 99999 1234\n",
            "\temail: davidjeiel@teste.com\n",
            "\ttwitter: @davidjeiel\n",
            "\tinstagram: @davidjeiel\n",
            "Total de contatos: 2\n",
            "\n",
            "AGENDA DE CONTATOS\n",
            "1 - Adicionar contato: \n",
            "2 - Adicionar vários contatos\n",
            "3 - Alterar contato: \n",
            "4 - Buscar contato: \n",
            "5 - Listar Contatos: \n",
            "6 - Relatório: \n",
            "7 - Remover Contato: \n",
            "8 - Sair\n",
            "Escolha uma opção: 6\n",
            "RELATÓRIO\n",
            "CPF             NOME                                     EMAIL                          TWITTER         INSTAGRAM      \n",
            "00012345678     Ana Maria                                teste@gmail.com                @teste          @teste         \n",
            "001.002.003-01  David Jeiel                              davidjeiel@teste.com           @davidjeiel     @davidjeiel    \n",
            "Total de contatos: 2\n",
            "\n",
            "AGENDA DE CONTATOS\n",
            "1 - Adicionar contato: \n",
            "2 - Adicionar vários contatos\n",
            "3 - Alterar contato: \n",
            "4 - Buscar contato: \n",
            "5 - Listar Contatos: \n",
            "6 - Relatório: \n",
            "7 - Remover Contato: \n",
            "8 - Sair\n",
            "Escolha uma opção: 2\n",
            " CADASTRO DE VÁRIOS CONTATOS \n",
            "Quantos contatos serão inseridos?5\n",
            "\n",
            "Cadastro 1\n",
            "\n",
            "Informe o CPF: 002.003.004-02\n",
            "Informe o nome: Mariana Rocha\n",
            "Informe o telefone: 61 99999 5678\n",
            "Informe o email: marianarocha@teste.com\n",
            "Informe o Twitter: @marianarocha\n",
            "Informe o Instagram: @marianarocha\n",
            "\n",
            "Cadastro 2\n",
            "\n",
            "Informe o CPF: 003.004.005-03\n",
            "Informe o nome: Maria Mimosa\n",
            "Informe o telefone: 61 99999 9632\n",
            "Informe o email: mimosa@teste.com\n",
            "Informe o Twitter: @mimosa\n",
            "Informe o Instagram: @mimosa\n",
            "\n",
            "Cadastro 3\n",
            "\n",
            "Informe o CPF: 004.005.006-04\n",
            "Informe o nome: Thiago Marques\n",
            "Informe o telefone: 61 99999 5814\n",
            "Informe o email: thiago@teste.com\n",
            "Informe o Twitter: @thiago\n",
            "Informe o Instagram: @thiago\n",
            "\n",
            "Cadastro 4\n",
            "\n",
            "Informe o CPF: 005.006.007-04\n",
            "Informe o nome: Fernanda Marques\n",
            "Informe o telefone: 61 99999 7532\n",
            "Informe o email: fernanda@gmail.com\n",
            "Informe o Twitter: @fernanda\n",
            "Informe o Instagram: @fernanda\n",
            "\n",
            "Cadastro 5\n",
            "\n",
            "Informe o CPF: 006.007.008-06\n",
            "Informe o nome: Marcia Marques\n",
            "Informe o telefone: 61 99999 1598\n",
            "Informe o email: marcia@teste.com\n",
            "Informe o Twitter: @marciamarques\n",
            "Informe o Instagram: @marciamarques\n",
            "AGENDA DE CONTATOS\n",
            "1 - Adicionar contato: \n",
            "2 - Adicionar vários contatos\n",
            "3 - Alterar contato: \n",
            "4 - Buscar contato: \n",
            "5 - Listar Contatos: \n",
            "6 - Relatório: \n",
            "7 - Remover Contato: \n",
            "8 - Sair\n",
            "Escolha uma opção: 5\n",
            " LISTAGEM DE CONTATOS \n",
            "Contato 1: \n",
            "\tNome: Ana Maria\n",
            "\tcpf: 00012345678\n",
            "\ttelefone: 61 9999 8888\n",
            "\temail: teste@gmail.com\n",
            "\ttwitter: @teste\n",
            "\tinstagram: @teste\n",
            "Contato 2: \n",
            "\tNome: David Jeiel\n",
            "\tcpf: 001.002.003-01\n",
            "\ttelefone: 61 99999 1234\n",
            "\temail: davidjeiel@teste.com\n",
            "\ttwitter: @davidjeiel\n",
            "\tinstagram: @davidjeiel\n",
            "Contato 3: \n",
            "\tNome: Mariana Rocha\n",
            "\tcpf: 002.003.004-02\n",
            "\ttelefone: 61 99999 5678\n",
            "\temail: marianarocha@teste.com\n",
            "\ttwitter: @marianarocha\n",
            "\tinstagram: @marianarocha\n",
            "Contato 4: \n",
            "\tNome: Maria Mimosa\n",
            "\tcpf: 003.004.005-03\n",
            "\ttelefone: 61 99999 9632\n",
            "\temail: mimosa@teste.com\n",
            "\ttwitter: @mimosa\n",
            "\tinstagram: @mimosa\n",
            "Contato 5: \n",
            "\tNome: Thiago Marques\n",
            "\tcpf: 004.005.006-04\n",
            "\ttelefone: 61 99999 5814\n",
            "\temail: thiago@teste.com\n",
            "\ttwitter: @thiago\n",
            "\tinstagram: @thiago\n",
            "Contato 6: \n",
            "\tNome: Fernanda Marques\n",
            "\tcpf: 005.006.007-04\n",
            "\ttelefone: 61 99999 7532\n",
            "\temail: fernanda@gmail.com\n",
            "\ttwitter: @fernanda\n",
            "\tinstagram: @fernanda\n",
            "Contato 7: \n",
            "\tNome: Marcia Marques\n",
            "\tcpf: 006.007.008-06\n",
            "\ttelefone: 61 99999 1598\n",
            "\temail: marcia@teste.com\n",
            "\ttwitter: @marciamarques\n",
            "\tinstagram: @marciamarques\n",
            "Total de contatos: 7\n",
            "\n",
            "AGENDA DE CONTATOS\n",
            "1 - Adicionar contato: \n",
            "2 - Adicionar vários contatos\n",
            "3 - Alterar contato: \n",
            "4 - Buscar contato: \n",
            "5 - Listar Contatos: \n",
            "6 - Relatório: \n",
            "7 - Remover Contato: \n",
            "8 - Sair\n",
            "Escolha uma opção: 6\n",
            "RELATÓRIO\n",
            "CPF             NOME                                     EMAIL                          TWITTER         INSTAGRAM      \n",
            "00012345678     Ana Maria                                teste@gmail.com                @teste          @teste         \n",
            "001.002.003-01  David Jeiel                              davidjeiel@teste.com           @davidjeiel     @davidjeiel    \n",
            "002.003.004-02  Mariana Rocha                            marianarocha@teste.com         @marianarocha   @marianarocha  \n",
            "003.004.005-03  Maria Mimosa                             mimosa@teste.com               @mimosa         @mimosa        \n",
            "004.005.006-04  Thiago Marques                           thiago@teste.com               @thiago         @thiago        \n",
            "005.006.007-04  Fernanda Marques                         fernanda@gmail.com             @fernanda       @fernanda      \n",
            "006.007.008-06  Marcia Marques                           marcia@teste.com               @marciamarques  @marciamarques \n",
            "Total de contatos: 7\n",
            "\n",
            "AGENDA DE CONTATOS\n",
            "1 - Adicionar contato: \n",
            "2 - Adicionar vários contatos\n",
            "3 - Alterar contato: \n",
            "4 - Buscar contato: \n",
            "5 - Listar Contatos: \n",
            "6 - Relatório: \n",
            "7 - Remover Contato: \n",
            "8 - Sair\n",
            "Escolha uma opção: 3\n",
            " EDIÇÃO DE CONTATO \n",
            "Digite o CPF: 001.002.003-01\n",
            "Digite o novo nome do contato: David J Rocha\n",
            "Digite o novo telefone do contato: 61 983002704\n",
            "Digite o novo e-mail do contato: david@teste.com\n",
            "Digite o novo twitter do contato: @david\n",
            "Digite o novo instagram do contato: @david\n",
            "Alteração realizada com sucesso\n",
            "\n",
            "AGENDA DE CONTATOS\n",
            "1 - Adicionar contato: \n",
            "2 - Adicionar vários contatos\n",
            "3 - Alterar contato: \n",
            "4 - Buscar contato: \n",
            "5 - Listar Contatos: \n",
            "6 - Relatório: \n",
            "7 - Remover Contato: \n",
            "8 - Sair\n",
            "Escolha uma opção: 3\n",
            " EDIÇÃO DE CONTATO \n",
            "Digite o CPF: 006.007.008-06\n",
            "Digite o novo nome do contato: Marcia M Leal\n",
            "Digite o novo telefone do contato: 61 98147 1778\n",
            "Digite o novo e-mail do contato: marcialeal@teste.com\n",
            "Digite o novo twitter do contato: @marcia\n",
            "Digite o novo instagram do contato: @marcia\n",
            "Alteração realizada com sucesso\n",
            "\n",
            "AGENDA DE CONTATOS\n",
            "1 - Adicionar contato: \n",
            "2 - Adicionar vários contatos\n",
            "3 - Alterar contato: \n",
            "4 - Buscar contato: \n",
            "5 - Listar Contatos: \n",
            "6 - Relatório: \n",
            "7 - Remover Contato: \n",
            "8 - Sair\n",
            "Escolha uma opção: 5\n",
            " LISTAGEM DE CONTATOS \n",
            "Contato 1: \n",
            "\tNome: Ana Maria\n",
            "\tcpf: 00012345678\n",
            "\ttelefone: 61 9999 8888\n",
            "\temail: teste@gmail.com\n",
            "\ttwitter: @teste\n",
            "\tinstagram: @teste\n",
            "Contato 2: \n",
            "\tNome: David J Rocha\n",
            "\tcpf: 001.002.003-01\n",
            "\ttelefone: 61 983002704\n",
            "\temail: david@teste.com\n",
            "\ttwitter: @david\n",
            "\tinstagram: @david\n",
            "Contato 3: \n",
            "\tNome: Mariana Rocha\n",
            "\tcpf: 002.003.004-02\n",
            "\ttelefone: 61 99999 5678\n",
            "\temail: marianarocha@teste.com\n",
            "\ttwitter: @marianarocha\n",
            "\tinstagram: @marianarocha\n",
            "Contato 4: \n",
            "\tNome: Maria Mimosa\n",
            "\tcpf: 003.004.005-03\n",
            "\ttelefone: 61 99999 9632\n",
            "\temail: mimosa@teste.com\n",
            "\ttwitter: @mimosa\n",
            "\tinstagram: @mimosa\n",
            "Contato 5: \n",
            "\tNome: Thiago Marques\n",
            "\tcpf: 004.005.006-04\n",
            "\ttelefone: 61 99999 5814\n",
            "\temail: thiago@teste.com\n",
            "\ttwitter: @thiago\n",
            "\tinstagram: @thiago\n",
            "Contato 6: \n",
            "\tNome: Fernanda Marques\n",
            "\tcpf: 005.006.007-04\n",
            "\ttelefone: 61 99999 7532\n",
            "\temail: fernanda@gmail.com\n",
            "\ttwitter: @fernanda\n",
            "\tinstagram: @fernanda\n",
            "Contato 7: \n",
            "\tNome: Marcia M Leal\n",
            "\tcpf: 006.007.008-06\n",
            "\ttelefone: 61 98147 1778\n",
            "\temail: marcialeal@teste.com\n",
            "\ttwitter: @marcia\n",
            "\tinstagram: @marcia\n",
            "Total de contatos: 7\n",
            "\n",
            "AGENDA DE CONTATOS\n",
            "1 - Adicionar contato: \n",
            "2 - Adicionar vários contatos\n",
            "3 - Alterar contato: \n",
            "4 - Buscar contato: \n",
            "5 - Listar Contatos: \n",
            "6 - Relatório: \n",
            "7 - Remover Contato: \n",
            "8 - Sair\n",
            "Escolha uma opção: 6\n",
            "RELATÓRIO\n",
            "CPF             NOME                                     EMAIL                          TWITTER         INSTAGRAM      \n",
            "00012345678     Ana Maria                                teste@gmail.com                @teste          @teste         \n",
            "001.002.003-01  David J Rocha                            david@teste.com                @david          @david         \n",
            "002.003.004-02  Mariana Rocha                            marianarocha@teste.com         @marianarocha   @marianarocha  \n",
            "003.004.005-03  Maria Mimosa                             mimosa@teste.com               @mimosa         @mimosa        \n",
            "004.005.006-04  Thiago Marques                           thiago@teste.com               @thiago         @thiago        \n",
            "005.006.007-04  Fernanda Marques                         fernanda@gmail.com             @fernanda       @fernanda      \n",
            "006.007.008-06  Marcia M Leal                            marcialeal@teste.com           @marcia         @marcia        \n",
            "Total de contatos: 7\n",
            "\n",
            "AGENDA DE CONTATOS\n",
            "1 - Adicionar contato: \n",
            "2 - Adicionar vários contatos\n",
            "3 - Alterar contato: \n",
            "4 - Buscar contato: \n",
            "5 - Listar Contatos: \n",
            "6 - Relatório: \n",
            "7 - Remover Contato: \n",
            "8 - Sair\n",
            "Escolha uma opção: 7\n",
            " REMOÇÃO DE CONTATO \n",
            "Digite o nome: Maria Mimosa\n",
            "Contato4:\n",
            "Nome: Maria Mimosa\n",
            "cpf: 003.004.005-03\n",
            "telefone: 61 99999 9632\n",
            "email: mimosa@teste.com\n",
            "twitter: @mimosa\n",
            "instagram: @mimosa\n",
            " \n",
            "Por favor responder apenas 'sim' ou 'não'\n",
            "Confirma a exclusão do contato? sim\n",
            "\n",
            "Contato apagando com sucesso!\n",
            "\n",
            "AGENDA DE CONTATOS\n",
            "1 - Adicionar contato: \n",
            "2 - Adicionar vários contatos\n",
            "3 - Alterar contato: \n",
            "4 - Buscar contato: \n",
            "5 - Listar Contatos: \n",
            "6 - Relatório: \n",
            "7 - Remover Contato: \n",
            "8 - Sair\n",
            "Escolha uma opção: 5\n",
            " LISTAGEM DE CONTATOS \n",
            "Contato 1: \n",
            "\tNome: Ana Maria\n",
            "\tcpf: 00012345678\n",
            "\ttelefone: 61 9999 8888\n",
            "\temail: teste@gmail.com\n",
            "\ttwitter: @teste\n",
            "\tinstagram: @teste\n",
            "Contato 2: \n",
            "\tNome: David J Rocha\n",
            "\tcpf: 001.002.003-01\n",
            "\ttelefone: 61 983002704\n",
            "\temail: david@teste.com\n",
            "\ttwitter: @david\n",
            "\tinstagram: @david\n",
            "Contato 3: \n",
            "\tNome: Mariana Rocha\n",
            "\tcpf: 002.003.004-02\n",
            "\ttelefone: 61 99999 5678\n",
            "\temail: marianarocha@teste.com\n",
            "\ttwitter: @marianarocha\n",
            "\tinstagram: @marianarocha\n",
            "Contato 4: \n",
            "\tNome: Thiago Marques\n",
            "\tcpf: 004.005.006-04\n",
            "\ttelefone: 61 99999 5814\n",
            "\temail: thiago@teste.com\n",
            "\ttwitter: @thiago\n",
            "\tinstagram: @thiago\n",
            "Contato 5: \n",
            "\tNome: Fernanda Marques\n",
            "\tcpf: 005.006.007-04\n",
            "\ttelefone: 61 99999 7532\n",
            "\temail: fernanda@gmail.com\n",
            "\ttwitter: @fernanda\n",
            "\tinstagram: @fernanda\n",
            "Contato 6: \n",
            "\tNome: Marcia M Leal\n",
            "\tcpf: 006.007.008-06\n",
            "\ttelefone: 61 98147 1778\n",
            "\temail: marcialeal@teste.com\n",
            "\ttwitter: @marcia\n",
            "\tinstagram: @marcia\n",
            "Total de contatos: 6\n",
            "\n",
            "AGENDA DE CONTATOS\n",
            "1 - Adicionar contato: \n",
            "2 - Adicionar vários contatos\n",
            "3 - Alterar contato: \n",
            "4 - Buscar contato: \n",
            "5 - Listar Contatos: \n",
            "6 - Relatório: \n",
            "7 - Remover Contato: \n",
            "8 - Sair\n",
            "Escolha uma opção: 6\n",
            "RELATÓRIO\n",
            "CPF             NOME                                     EMAIL                          TWITTER         INSTAGRAM      \n",
            "00012345678     Ana Maria                                teste@gmail.com                @teste          @teste         \n",
            "001.002.003-01  David J Rocha                            david@teste.com                @david          @david         \n",
            "002.003.004-02  Mariana Rocha                            marianarocha@teste.com         @marianarocha   @marianarocha  \n",
            "004.005.006-04  Thiago Marques                           thiago@teste.com               @thiago         @thiago        \n",
            "005.006.007-04  Fernanda Marques                         fernanda@gmail.com             @fernanda       @fernanda      \n",
            "006.007.008-06  Marcia M Leal                            marcialeal@teste.com           @marcia         @marcia        \n",
            "Total de contatos: 6\n",
            "\n",
            "AGENDA DE CONTATOS\n",
            "1 - Adicionar contato: \n",
            "2 - Adicionar vários contatos\n",
            "3 - Alterar contato: \n",
            "4 - Buscar contato: \n",
            "5 - Listar Contatos: \n",
            "6 - Relatório: \n",
            "7 - Remover Contato: \n",
            "8 - Sair\n",
            "Escolha uma opção: 8\n",
            " SAIR DA AGENDA \n",
            "A agenda será encerrada, até breve!\n"
          ]
        }
      ]
    }
  ],
  "metadata": {
    "colab": {
      "provenance": [],
      "collapsed_sections": [
        "OoDme1zbCK5g",
        "6BXpwQkBKYFg",
        "1kBE9xYqKw_g",
        "YrWl0ihqDBGp",
        "NOJHBE70Dohv",
        "gCzDp0gIElVv",
        "ReOlIy_FKIs5",
        "SfveDQhHzfsX",
        "iX4k70BvzRcv",
        "yquQzPiv95GQ",
        "WHXjHgEJ-hyH",
        "-2fZLwjHkHL5",
        "QlYOqv2lHfZI",
        "1nlffj9BlKao",
        "Z2huJzuWIMwY",
        "6Zbk7BzVleaw",
        "R5s2QcwVl1tI",
        "bDV8cMp0l6FA",
        "5yUBzlDCx81x"
      ],
      "mount_file_id": "15jnZU-ox1Kbj0hzvMULokNq9_hEJMCpF",
      "authorship_tag": "ABX9TyM/W8PIa6iW/VhJiURHHmgL",
      "include_colab_link": true
    },
    "kernelspec": {
      "display_name": "Python 3",
      "name": "python3"
    },
    "language_info": {
      "name": "python"
    }
  },
  "nbformat": 4,
  "nbformat_minor": 0
}